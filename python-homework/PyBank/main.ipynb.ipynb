{
 "cells": [
  {
   "cell_type": "code",
   "execution_count": 9,
   "metadata": {},
   "outputs": [],
   "source": [
    "import csv"
   ]
  },
  {
   "cell_type": "code",
   "execution_count": 10,
   "metadata": {},
   "outputs": [],
   "source": [
    "import numpy as np"
   ]
  },
  {
   "cell_type": "code",
   "execution_count": 12,
   "metadata": {},
   "outputs": [
    {
     "name": "stdout",
     "output_type": "stream",
     "text": [
      "['Date', 'Profit/Losses']\n",
      "['Jan-2010', '867884']\n",
      "['Feb-2010', '984655']\n",
      "['Mar-2010', '322013']\n",
      "['Apr-2010', '-69417']\n",
      "['May-2010', '310503']\n",
      "['Jun-2010', '522857']\n",
      "['Jul-2010', '1033096']\n",
      "['Aug-2010', '604885']\n",
      "['Sep-2010', '-216386']\n",
      "['Oct-2010', '477532']\n",
      "['Nov-2010', '893810']\n",
      "['Dec-2010', '-80353']\n",
      "['Jan-2011', '779806']\n",
      "['Feb-2011', '-335203']\n",
      "['Mar-2011', '697845']\n",
      "['Apr-2011', '793163']\n",
      "['May-2011', '485070']\n",
      "['Jun-2011', '584122']\n",
      "['Jul-2011', '62729']\n",
      "['Aug-2011', '668179']\n",
      "['Sep-2011', '899906']\n",
      "['Oct-2011', '834719']\n",
      "['Nov-2011', '132003']\n",
      "['Dec-2011', '309978']\n",
      "['Jan-2012', '-755566']\n",
      "['Feb-2012', '1170593']\n",
      "['Mar-2012', '252788']\n",
      "['Apr-2012', '1151518']\n",
      "['May-2012', '817256']\n",
      "['Jun-2012', '570757']\n",
      "['Jul-2012', '506702']\n",
      "['Aug-2012', '-1022534']\n",
      "['Sep-2012', '475062']\n",
      "['Oct-2012', '779976']\n",
      "['Nov-2012', '144175']\n",
      "['Dec-2012', '542494']\n",
      "['Jan-2013', '359333']\n",
      "['Feb-2013', '321469']\n",
      "['Mar-2013', '67780']\n",
      "['Apr-2013', '471435']\n",
      "['May-2013', '565603']\n",
      "['Jun-2013', '872480']\n",
      "['Jul-2013', '789480']\n",
      "['Aug-2013', '999942']\n",
      "['Sep-2013', '-1196225']\n",
      "['Oct-2013', '268997']\n",
      "['Nov-2013', '-687986']\n",
      "['Dec-2013', '1150461']\n",
      "['Jan-2014', '682458']\n",
      "['Feb-2014', '617856']\n",
      "['Mar-2014', '824098']\n",
      "['Apr-2014', '581943']\n",
      "['May-2014', '132864']\n",
      "['Jun-2014', '448062']\n",
      "['Jul-2014', '689161']\n",
      "['Aug-2014', '800701']\n",
      "['Sep-2014', '1166643']\n",
      "['Oct-2014', '947333']\n",
      "['Nov-2014', '578668']\n",
      "['Dec-2014', '988505']\n",
      "['Jan-2015', '1139715']\n",
      "['Feb-2015', '1029471']\n",
      "['Mar-2015', '687533']\n",
      "['Apr-2015', '-524626']\n",
      "['May-2015', '158620']\n",
      "['Jun-2015', '87795']\n",
      "['Jul-2015', '423389']\n",
      "['Aug-2015', '840723']\n",
      "['Sep-2015', '568529']\n",
      "['Oct-2015', '332067']\n",
      "['Nov-2015', '989499']\n",
      "['Dec-2015', '778237']\n",
      "['Jan-2016', '650000']\n",
      "['Feb-2016', '-1100387']\n",
      "['Mar-2016', '-174946']\n",
      "['Apr-2016', '757143']\n",
      "['May-2016', '445709']\n",
      "['Jun-2016', '712961']\n",
      "['Jul-2016', '-1163797']\n",
      "['Aug-2016', '569899']\n",
      "['Sep-2016', '768450']\n",
      "['Oct-2016', '102685']\n",
      "['Nov-2016', '795914']\n",
      "['Dec-2016', '60988']\n",
      "['Jan-2017', '138230']\n",
      "['Feb-2017', '671099']\n"
     ]
    }
   ],
   "source": [
    "with open('Desktop/Data/budget_data.csv', \"r\") as budget_data:\n",
    "    data = csv.reader(budget_data)\n",
    "    for row in data:\n",
    "        print(row)"
   ]
  },
  {
   "cell_type": "code",
   "execution_count": 15,
   "metadata": {},
   "outputs": [
    {
     "name": "stdout",
     "output_type": "stream",
     "text": [
      "87\n"
     ]
    }
   ],
   "source": [
    "file = open(\"Desktop/Data/budget_data.csv\")\n",
    "reader = csv.reader(file)\n",
    "lines= len(list(reader))\n",
    "print(lines)"
   ]
  },
  {
   "cell_type": "code",
   "execution_count": 33,
   "metadata": {},
   "outputs": [
    {
     "name": "stdout",
     "output_type": "stream",
     "text": [
      "The total is 38382578.0\n"
     ]
    }
   ],
   "source": [
    "import csv\n",
    "with open(\"Desktop/Data/budget_data.csv\", 'r') as f:\n",
    "  next(f) \n",
    "  total = 0\n",
    "  for row in csv.reader(f):\n",
    "    total += float(row[1])\n",
    "  print('The total is {}'.format(total))"
   ]
  },
  {
   "cell_type": "code",
   "execution_count": 35,
   "metadata": {},
   "outputs": [
    {
     "data": {
      "text/plain": [
       "446309.0465116279"
      ]
     },
     "execution_count": 35,
     "metadata": {},
     "output_type": "execute_result"
    }
   ],
   "source": [
    "import pandas as pd\n",
    "data = pd.read_csv(\"Desktop/Data/budget_data.csv\")\n",
    "data['Profit/Losses'].mean()"
   ]
  },
  {
   "cell_type": "code",
   "execution_count": 45,
   "metadata": {},
   "outputs": [
    {
     "name": "stdout",
     "output_type": "stream",
     "text": [
      "          Profit/Losses\n",
      "Date                   \n",
      "Jan-2010            NaN\n",
      "Feb-2010       0.134547\n",
      "Mar-2010      -0.672969\n",
      "Apr-2010      -1.215572\n",
      "May-2010      -5.473011\n",
      "Jun-2010       0.683903\n",
      "Jul-2010       0.975867\n",
      "Aug-2010      -0.414493\n",
      "Sep-2010      -1.357731\n",
      "Oct-2010      -3.206853\n",
      "Nov-2010       0.871728\n",
      "Dec-2010      -1.089899\n",
      "Jan-2011     -10.704753\n",
      "Feb-2011      -1.429854\n",
      "Mar-2011      -3.081858\n",
      "Apr-2011       0.136589\n",
      "May-2011      -0.388436\n",
      "Jun-2011       0.204201\n",
      "Jul-2011      -0.892610\n",
      "Aug-2011       9.651836\n",
      "Sep-2011       0.346804\n",
      "Oct-2011      -0.072438\n",
      "Nov-2011      -0.841859\n",
      "Dec-2011       1.348265\n",
      "Jan-2012      -3.437483\n",
      "Feb-2012      -2.549293\n",
      "Mar-2012      -0.784051\n",
      "Apr-2012       3.555272\n",
      "May-2012      -0.290279\n",
      "Jun-2012      -0.301618\n",
      "Jul-2012      -0.112228\n",
      "Aug-2012      -3.018018\n",
      "Sep-2012      -1.464593\n",
      "Oct-2012       0.641840\n",
      "Nov-2012      -0.815155\n",
      "Dec-2012       2.762747\n",
      "Jan-2013      -0.337628\n",
      "Feb-2013      -0.105373\n",
      "Mar-2013      -0.789155\n",
      "Apr-2013       5.955370\n",
      "May-2013       0.199748\n",
      "Jun-2013       0.542566\n",
      "Jul-2013      -0.095131\n",
      "Aug-2013       0.266583\n",
      "Sep-2013      -2.196294\n",
      "Oct-2013      -1.224872\n",
      "Nov-2013      -3.557597\n",
      "Dec-2013      -2.672216\n",
      "Jan-2014      -0.406796\n",
      "Feb-2014      -0.094661\n",
      "Mar-2014       0.333803\n",
      "Apr-2014      -0.293842\n",
      "May-2014      -0.771689\n",
      "Jun-2014       2.372336\n",
      "Jul-2014       0.538093\n",
      "Aug-2014       0.161849\n",
      "Sep-2014       0.457027\n",
      "Oct-2014      -0.187984\n",
      "Nov-2014      -0.389161\n",
      "Dec-2014       0.708242\n",
      "Jan-2015       0.152968\n",
      "Feb-2015      -0.096729\n",
      "Mar-2015      -0.332149\n",
      "Apr-2015      -1.763056\n",
      "May-2015      -1.302349\n",
      "Jun-2015      -0.446507\n",
      "Jul-2015       3.822473\n",
      "Aug-2015       0.985699\n",
      "Sep-2015      -0.323762\n",
      "Oct-2015      -0.415919\n",
      "Nov-2015       1.979817\n",
      "Dec-2015      -0.213504\n",
      "Jan-2016      -0.164779\n",
      "Feb-2016      -2.692903\n",
      "Mar-2016      -0.841014\n",
      "Apr-2016      -5.327867\n",
      "May-2016      -0.411328\n",
      "Jun-2016       0.599611\n",
      "Jul-2016      -2.632343\n",
      "Aug-2016      -1.489689\n",
      "Sep-2016       0.348397\n",
      "Oct-2016      -0.866374\n",
      "Nov-2016       6.751025\n",
      "Dec-2016      -0.923374\n",
      "Jan-2017       1.266511\n",
      "Feb-2017       3.854945\n"
     ]
    }
   ],
   "source": [
    "import pandas as pd\n",
    "pd.set_option(\"max_rows\", None)\n",
    "\n",
    "\n",
    "df = pd.read_csv(\"Desktop/Data/budget_data.csv\", index_col=[0])\n",
    "print(df.pct_change(1))\n"
   ]
  },
  {
   "cell_type": "code",
   "execution_count": null,
   "metadata": {},
   "outputs": [],
   "source": [
    "```text\n",
    "  Financial Analysis\n",
    "  ----------------------------\n",
    "  Total Months: 86\n",
    "  Total: $38382578\n",
    "  Average  Change: $-2315.12\n",
    "  Greatest Increase in Profits: Feb-2012 ($1926159)\n",
    "  Greatest Decrease in Profits: Sep-2013 ($-2196167)\n",
    "  ```\n"
   ]
  }
 ],
 "metadata": {
  "kernelspec": {
   "display_name": "Python 3",
   "language": "python",
   "name": "python3"
  },
  "language_info": {
   "codemirror_mode": {
    "name": "ipython",
    "version": 3
   },
   "file_extension": ".py",
   "mimetype": "text/x-python",
   "name": "python",
   "nbconvert_exporter": "python",
   "pygments_lexer": "ipython3",
   "version": "3.7.6"
  }
 },
 "nbformat": 4,
 "nbformat_minor": 4
}
